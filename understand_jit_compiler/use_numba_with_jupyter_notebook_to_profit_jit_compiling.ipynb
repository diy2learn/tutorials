{
 "cells": [
  {
   "cell_type": "markdown",
   "id": "public-contrary",
   "metadata": {},
   "source": [
    "# Init"
   ]
  },
  {
   "cell_type": "code",
   "execution_count": 1,
   "id": "undefined-sponsorship",
   "metadata": {
    "ExecuteTime": {
     "end_time": "2021-01-24T11:09:58.238404Z",
     "start_time": "2021-01-24T11:09:57.714135Z"
    }
   },
   "outputs": [],
   "source": [
    "from time import time\n",
    "import argparse\n",
    "\n",
    "\n",
    "import numpy as np\n",
    "from numba import jit"
   ]
  },
  {
   "cell_type": "markdown",
   "id": "clear-arcade",
   "metadata": {
    "ExecuteTime": {
     "end_time": "2021-01-24T10:48:41.813702Z",
     "start_time": "2021-01-24T10:48:41.792238Z"
    }
   },
   "source": [
    "# Functions"
   ]
  },
  {
   "cell_type": "markdown",
   "id": "actual-ability",
   "metadata": {},
   "source": [
    "## Numpy"
   ]
  },
  {
   "cell_type": "code",
   "execution_count": 2,
   "id": "sufficient-puppy",
   "metadata": {
    "ExecuteTime": {
     "end_time": "2021-01-24T11:09:58.247803Z",
     "start_time": "2021-01-24T11:09:58.242181Z"
    }
   },
   "outputs": [],
   "source": [
    "def calc_numpy(x, y, n):\n",
    "    res = np.zeros(len(x))\n",
    "    for i in range(n):\n",
    "        for j in range(n):\n",
    "            res += np.add(i*x, j*y)\n",
    "    return res"
   ]
  },
  {
   "cell_type": "markdown",
   "id": "higher-pricing",
   "metadata": {},
   "source": [
    "## Numba"
   ]
  },
  {
   "cell_type": "code",
   "execution_count": 3,
   "id": "portable-judgment",
   "metadata": {
    "ExecuteTime": {
     "end_time": "2021-01-24T11:09:58.262283Z",
     "start_time": "2021-01-24T11:09:58.251775Z"
    }
   },
   "outputs": [],
   "source": [
    "@jit(nopython=True)\n",
    "def calc_numba(x, y, n):\n",
    "    res = np.zeros(len(x))\n",
    "    for i in range(n):\n",
    "        for j in range(n):\n",
    "            res += np.add(i*x, j*y)\n",
    "    return res"
   ]
  },
  {
   "cell_type": "markdown",
   "id": "offshore-lighter",
   "metadata": {},
   "source": [
    "# Main"
   ]
  },
  {
   "cell_type": "markdown",
   "id": "martial-homeless",
   "metadata": {
    "ExecuteTime": {
     "end_time": "2021-01-24T11:02:28.481664Z",
     "start_time": "2021-01-24T11:02:28.478644Z"
    }
   },
   "source": [
    "## Data"
   ]
  },
  {
   "cell_type": "code",
   "execution_count": 4,
   "id": "ongoing-ceremony",
   "metadata": {
    "ExecuteTime": {
     "end_time": "2021-01-24T11:09:58.270409Z",
     "start_time": "2021-01-24T11:09:58.265570Z"
    }
   },
   "outputs": [],
   "source": [
    "nobs = 1000\n",
    "n = 100\n",
    "x = np.random.randn(nobs)\n",
    "y = np.random.randn(nobs)"
   ]
  },
  {
   "cell_type": "markdown",
   "id": "first-headline",
   "metadata": {},
   "source": [
    "## Numpy"
   ]
  },
  {
   "cell_type": "markdown",
   "id": "turned-default",
   "metadata": {},
   "source": [
    "### Run first time Numpy"
   ]
  },
  {
   "cell_type": "code",
   "execution_count": 5,
   "id": "caring-engine",
   "metadata": {
    "ExecuteTime": {
     "end_time": "2021-01-24T11:09:58.354231Z",
     "start_time": "2021-01-24T11:09:58.273198Z"
    }
   },
   "outputs": [],
   "source": [
    "res_numpy = calc_numpy(x, y, n)"
   ]
  },
  {
   "cell_type": "markdown",
   "id": "silver-orientation",
   "metadata": {},
   "source": [
    "### Run 2nd time Numpy"
   ]
  },
  {
   "cell_type": "code",
   "execution_count": 6,
   "id": "immune-underwear",
   "metadata": {
    "ExecuteTime": {
     "end_time": "2021-01-24T11:09:58.429906Z",
     "start_time": "2021-01-24T11:09:58.355942Z"
    }
   },
   "outputs": [],
   "source": [
    "res_numpy = calc_numpy(x, y, n)"
   ]
  },
  {
   "cell_type": "markdown",
   "id": "lovely-insight",
   "metadata": {},
   "source": [
    "### Run 3rd time Numpy"
   ]
  },
  {
   "cell_type": "code",
   "execution_count": 7,
   "id": "distinct-walnut",
   "metadata": {
    "ExecuteTime": {
     "end_time": "2021-01-24T11:09:58.500329Z",
     "start_time": "2021-01-24T11:09:58.431940Z"
    }
   },
   "outputs": [],
   "source": [
    "res_numpy = calc_numpy(x, y, n)"
   ]
  },
  {
   "cell_type": "markdown",
   "id": "german-waste",
   "metadata": {},
   "source": [
    "## Numba"
   ]
  },
  {
   "cell_type": "markdown",
   "id": "computational-florida",
   "metadata": {},
   "source": [
    "### Run 1rst time Numba"
   ]
  },
  {
   "cell_type": "code",
   "execution_count": 8,
   "id": "cross-corporation",
   "metadata": {
    "ExecuteTime": {
     "end_time": "2021-01-24T11:09:59.018812Z",
     "start_time": "2021-01-24T11:09:58.503069Z"
    }
   },
   "outputs": [],
   "source": [
    "res_numba = calc_numba(x, y, n)"
   ]
  },
  {
   "cell_type": "markdown",
   "id": "alleged-intellectual",
   "metadata": {},
   "source": [
    "### Run 2nd time Numba"
   ]
  },
  {
   "cell_type": "code",
   "execution_count": 9,
   "id": "fancy-hydrogen",
   "metadata": {
    "ExecuteTime": {
     "end_time": "2021-01-24T11:09:59.030998Z",
     "start_time": "2021-01-24T11:09:59.021054Z"
    }
   },
   "outputs": [],
   "source": [
    "res_numba = calc_numba(x, y, n)"
   ]
  },
  {
   "cell_type": "markdown",
   "id": "large-sandwich",
   "metadata": {},
   "source": [
    "### Run 3rd time Numba"
   ]
  },
  {
   "cell_type": "code",
   "execution_count": 10,
   "id": "improved-raising",
   "metadata": {
    "ExecuteTime": {
     "end_time": "2021-01-24T11:09:59.044215Z",
     "start_time": "2021-01-24T11:09:59.033033Z"
    }
   },
   "outputs": [],
   "source": [
    "res_numba = calc_numba(x, y, n)"
   ]
  },
  {
   "cell_type": "markdown",
   "id": "applied-burton",
   "metadata": {},
   "source": [
    "# Grid search"
   ]
  },
  {
   "cell_type": "code",
   "execution_count": 15,
   "id": "intellectual-privilege",
   "metadata": {
    "ExecuteTime": {
     "end_time": "2021-01-24T15:06:48.306822Z",
     "start_time": "2021-01-24T15:06:47.729662Z"
    }
   },
   "outputs": [],
   "source": [
    "import pickle\n",
    "import pandas as pd"
   ]
  },
  {
   "cell_type": "code",
   "execution_count": 40,
   "id": "detected-hardwood",
   "metadata": {
    "ExecuteTime": {
     "end_time": "2021-01-24T15:47:27.764604Z",
     "start_time": "2021-01-24T15:47:27.755999Z"
    }
   },
   "outputs": [],
   "source": [
    "def get_run_time(fpath: str = './run_time.pkl') -> pd.DataFrame:\n",
    "    with open(fpath, 'rb') as pkf:\n",
    "        run_times = pickle.load(pkf)\n",
    "    df = pd.DataFrame.from_dict(run_times, orient='index')\n",
    "    df.index.names=['n_loop', 'n_obs']\n",
    "    return df.reset_index()\n",
    "\n",
    "def get_subset(\n",
    "    df,\n",
    "    level=10,\n",
    "    col='n_loop',\n",
    "    id_col='n_obs'\n",
    "    \n",
    ") -> pd.DataFrame:\n",
    "    cols = list(set(df.columns) - set([col]))\n",
    "    return df.loc[df[col] == level][cols].set_index(id_col)\n"
   ]
  },
  {
   "cell_type": "code",
   "execution_count": 34,
   "id": "literary-insurance",
   "metadata": {
    "ExecuteTime": {
     "end_time": "2021-01-24T15:45:22.219281Z",
     "start_time": "2021-01-24T15:45:22.200087Z"
    }
   },
   "outputs": [
    {
     "data": {
      "text/html": [
       "<div>\n",
       "<style scoped>\n",
       "    .dataframe tbody tr th:only-of-type {\n",
       "        vertical-align: middle;\n",
       "    }\n",
       "\n",
       "    .dataframe tbody tr th {\n",
       "        vertical-align: top;\n",
       "    }\n",
       "\n",
       "    .dataframe thead th {\n",
       "        text-align: right;\n",
       "    }\n",
       "</style>\n",
       "<table border=\"1\" class=\"dataframe\">\n",
       "  <thead>\n",
       "    <tr style=\"text-align: right;\">\n",
       "      <th></th>\n",
       "      <th>n_loop</th>\n",
       "      <th>n_obs</th>\n",
       "      <th>time_numpy</th>\n",
       "      <th>time_numba</th>\n",
       "    </tr>\n",
       "  </thead>\n",
       "  <tbody>\n",
       "    <tr>\n",
       "      <th>0</th>\n",
       "      <td>10</td>\n",
       "      <td>10</td>\n",
       "      <td>0.490189</td>\n",
       "      <td>498.106956</td>\n",
       "    </tr>\n",
       "    <tr>\n",
       "      <th>1</th>\n",
       "      <td>10</td>\n",
       "      <td>100</td>\n",
       "      <td>1.838923</td>\n",
       "      <td>0.120163</td>\n",
       "    </tr>\n",
       "    <tr>\n",
       "      <th>2</th>\n",
       "      <td>10</td>\n",
       "      <td>1000</td>\n",
       "      <td>4.585981</td>\n",
       "      <td>0.083923</td>\n",
       "    </tr>\n",
       "    <tr>\n",
       "      <th>3</th>\n",
       "      <td>10</td>\n",
       "      <td>10000</td>\n",
       "      <td>3.931999</td>\n",
       "      <td>0.911713</td>\n",
       "    </tr>\n",
       "    <tr>\n",
       "      <th>4</th>\n",
       "      <td>10</td>\n",
       "      <td>50000</td>\n",
       "      <td>17.482996</td>\n",
       "      <td>6.526947</td>\n",
       "    </tr>\n",
       "    <tr>\n",
       "      <th>5</th>\n",
       "      <td>10</td>\n",
       "      <td>100000</td>\n",
       "      <td>42.222738</td>\n",
       "      <td>14.043331</td>\n",
       "    </tr>\n",
       "    <tr>\n",
       "      <th>6</th>\n",
       "      <td>100</td>\n",
       "      <td>10</td>\n",
       "      <td>45.407057</td>\n",
       "      <td>1.242161</td>\n",
       "    </tr>\n",
       "    <tr>\n",
       "      <th>7</th>\n",
       "      <td>100</td>\n",
       "      <td>100</td>\n",
       "      <td>43.804884</td>\n",
       "      <td>2.356052</td>\n",
       "    </tr>\n",
       "    <tr>\n",
       "      <th>8</th>\n",
       "      <td>100</td>\n",
       "      <td>1000</td>\n",
       "      <td>71.232080</td>\n",
       "      <td>5.982161</td>\n",
       "    </tr>\n",
       "    <tr>\n",
       "      <th>9</th>\n",
       "      <td>100</td>\n",
       "      <td>10000</td>\n",
       "      <td>283.709049</td>\n",
       "      <td>91.379881</td>\n",
       "    </tr>\n",
       "    <tr>\n",
       "      <th>10</th>\n",
       "      <td>100</td>\n",
       "      <td>50000</td>\n",
       "      <td>1322.622061</td>\n",
       "      <td>655.061007</td>\n",
       "    </tr>\n",
       "    <tr>\n",
       "      <th>11</th>\n",
       "      <td>100</td>\n",
       "      <td>100000</td>\n",
       "      <td>3412.963152</td>\n",
       "      <td>1345.312834</td>\n",
       "    </tr>\n",
       "    <tr>\n",
       "      <th>12</th>\n",
       "      <td>250</td>\n",
       "      <td>10</td>\n",
       "      <td>260.520220</td>\n",
       "      <td>8.463860</td>\n",
       "    </tr>\n",
       "    <tr>\n",
       "      <th>13</th>\n",
       "      <td>250</td>\n",
       "      <td>100</td>\n",
       "      <td>270.366907</td>\n",
       "      <td>13.704777</td>\n",
       "    </tr>\n",
       "    <tr>\n",
       "      <th>14</th>\n",
       "      <td>250</td>\n",
       "      <td>1000</td>\n",
       "      <td>425.877094</td>\n",
       "      <td>34.103155</td>\n",
       "    </tr>\n",
       "    <tr>\n",
       "      <th>15</th>\n",
       "      <td>250</td>\n",
       "      <td>10000</td>\n",
       "      <td>1735.944033</td>\n",
       "      <td>600.092888</td>\n",
       "    </tr>\n",
       "    <tr>\n",
       "      <th>16</th>\n",
       "      <td>250</td>\n",
       "      <td>50000</td>\n",
       "      <td>8095.046997</td>\n",
       "      <td>4073.921919</td>\n",
       "    </tr>\n",
       "    <tr>\n",
       "      <th>17</th>\n",
       "      <td>250</td>\n",
       "      <td>100000</td>\n",
       "      <td>21038.415194</td>\n",
       "      <td>8491.093874</td>\n",
       "    </tr>\n",
       "    <tr>\n",
       "      <th>18</th>\n",
       "      <td>1000</td>\n",
       "      <td>10</td>\n",
       "      <td>4175.983906</td>\n",
       "      <td>127.562046</td>\n",
       "    </tr>\n",
       "    <tr>\n",
       "      <th>19</th>\n",
       "      <td>1000</td>\n",
       "      <td>100</td>\n",
       "      <td>4321.351767</td>\n",
       "      <td>215.192080</td>\n",
       "    </tr>\n",
       "    <tr>\n",
       "      <th>20</th>\n",
       "      <td>1000</td>\n",
       "      <td>1000</td>\n",
       "      <td>6878.247261</td>\n",
       "      <td>468.135834</td>\n",
       "    </tr>\n",
       "    <tr>\n",
       "      <th>21</th>\n",
       "      <td>1000</td>\n",
       "      <td>10000</td>\n",
       "      <td>27823.837996</td>\n",
       "      <td>9535.321712</td>\n",
       "    </tr>\n",
       "    <tr>\n",
       "      <th>22</th>\n",
       "      <td>1000</td>\n",
       "      <td>50000</td>\n",
       "      <td>134560.024977</td>\n",
       "      <td>69534.994841</td>\n",
       "    </tr>\n",
       "    <tr>\n",
       "      <th>23</th>\n",
       "      <td>1000</td>\n",
       "      <td>100000</td>\n",
       "      <td>403442.498922</td>\n",
       "      <td>150543.867826</td>\n",
       "    </tr>\n",
       "  </tbody>\n",
       "</table>\n",
       "</div>"
      ],
      "text/plain": [
       "    n_loop   n_obs     time_numpy     time_numba\n",
       "0       10      10       0.490189     498.106956\n",
       "1       10     100       1.838923       0.120163\n",
       "2       10    1000       4.585981       0.083923\n",
       "3       10   10000       3.931999       0.911713\n",
       "4       10   50000      17.482996       6.526947\n",
       "5       10  100000      42.222738      14.043331\n",
       "6      100      10      45.407057       1.242161\n",
       "7      100     100      43.804884       2.356052\n",
       "8      100    1000      71.232080       5.982161\n",
       "9      100   10000     283.709049      91.379881\n",
       "10     100   50000    1322.622061     655.061007\n",
       "11     100  100000    3412.963152    1345.312834\n",
       "12     250      10     260.520220       8.463860\n",
       "13     250     100     270.366907      13.704777\n",
       "14     250    1000     425.877094      34.103155\n",
       "15     250   10000    1735.944033     600.092888\n",
       "16     250   50000    8095.046997    4073.921919\n",
       "17     250  100000   21038.415194    8491.093874\n",
       "18    1000      10    4175.983906     127.562046\n",
       "19    1000     100    4321.351767     215.192080\n",
       "20    1000    1000    6878.247261     468.135834\n",
       "21    1000   10000   27823.837996    9535.321712\n",
       "22    1000   50000  134560.024977   69534.994841\n",
       "23    1000  100000  403442.498922  150543.867826"
      ]
     },
     "execution_count": 34,
     "metadata": {},
     "output_type": "execute_result"
    }
   ],
   "source": [
    "df = get_run_time('./run_time.pkl')\n",
    "df"
   ]
  },
  {
   "cell_type": "markdown",
   "id": "congressional-chester",
   "metadata": {},
   "source": [
    "## Plot vs n_obs"
   ]
  },
  {
   "cell_type": "code",
   "execution_count": 47,
   "id": "imposed-jesus",
   "metadata": {
    "ExecuteTime": {
     "end_time": "2021-01-24T16:04:27.776947Z",
     "start_time": "2021-01-24T16:04:27.770752Z"
    }
   },
   "outputs": [],
   "source": [
    "df_sub = get_subset(\n",
    "    df, level=100, col='n_loop', id_col='n_obs')"
   ]
  },
  {
   "cell_type": "code",
   "execution_count": 48,
   "id": "internal-plain",
   "metadata": {
    "ExecuteTime": {
     "end_time": "2021-01-24T16:04:28.212501Z",
     "start_time": "2021-01-24T16:04:28.203934Z"
    }
   },
   "outputs": [
    {
     "data": {
      "text/html": [
       "<div>\n",
       "<style scoped>\n",
       "    .dataframe tbody tr th:only-of-type {\n",
       "        vertical-align: middle;\n",
       "    }\n",
       "\n",
       "    .dataframe tbody tr th {\n",
       "        vertical-align: top;\n",
       "    }\n",
       "\n",
       "    .dataframe thead th {\n",
       "        text-align: right;\n",
       "    }\n",
       "</style>\n",
       "<table border=\"1\" class=\"dataframe\">\n",
       "  <thead>\n",
       "    <tr style=\"text-align: right;\">\n",
       "      <th></th>\n",
       "      <th>time_numba</th>\n",
       "      <th>time_numpy</th>\n",
       "    </tr>\n",
       "    <tr>\n",
       "      <th>n_obs</th>\n",
       "      <th></th>\n",
       "      <th></th>\n",
       "    </tr>\n",
       "  </thead>\n",
       "  <tbody>\n",
       "    <tr>\n",
       "      <th>10</th>\n",
       "      <td>1.242161</td>\n",
       "      <td>45.407057</td>\n",
       "    </tr>\n",
       "    <tr>\n",
       "      <th>100</th>\n",
       "      <td>2.356052</td>\n",
       "      <td>43.804884</td>\n",
       "    </tr>\n",
       "    <tr>\n",
       "      <th>1000</th>\n",
       "      <td>5.982161</td>\n",
       "      <td>71.232080</td>\n",
       "    </tr>\n",
       "    <tr>\n",
       "      <th>10000</th>\n",
       "      <td>91.379881</td>\n",
       "      <td>283.709049</td>\n",
       "    </tr>\n",
       "    <tr>\n",
       "      <th>50000</th>\n",
       "      <td>655.061007</td>\n",
       "      <td>1322.622061</td>\n",
       "    </tr>\n",
       "    <tr>\n",
       "      <th>100000</th>\n",
       "      <td>1345.312834</td>\n",
       "      <td>3412.963152</td>\n",
       "    </tr>\n",
       "  </tbody>\n",
       "</table>\n",
       "</div>"
      ],
      "text/plain": [
       "         time_numba   time_numpy\n",
       "n_obs                           \n",
       "10         1.242161    45.407057\n",
       "100        2.356052    43.804884\n",
       "1000       5.982161    71.232080\n",
       "10000     91.379881   283.709049\n",
       "50000    655.061007  1322.622061\n",
       "100000  1345.312834  3412.963152"
      ]
     },
     "execution_count": 48,
     "metadata": {},
     "output_type": "execute_result"
    }
   ],
   "source": [
    "df_sub"
   ]
  },
  {
   "cell_type": "code",
   "execution_count": 49,
   "id": "moved-memorial",
   "metadata": {
    "ExecuteTime": {
     "end_time": "2021-01-24T16:04:37.780944Z",
     "start_time": "2021-01-24T16:04:37.554502Z"
    }
   },
   "outputs": [
    {
     "data": {
      "text/plain": [
       "Text(0.5, 0, 'Data size')"
      ]
     },
     "execution_count": 49,
     "metadata": {},
     "output_type": "execute_result"
    },
    {
     "data": {
      "image/png": "[encoded data removed]",
      "text/plain": [
       "<Figure size 432x288 with 1 Axes>"
      ]
     },
     "metadata": {
      "needs_background": "light"
     },
     "output_type": "display_data"
    }
   ],
   "source": [
    "import matplotlib.pyplot as plt\n",
    "\n",
    "fig, ax = plt.subplots()\n",
    "df_sub.plot(ax=ax)\n",
    "ax.set_ylabel('Time [ms]')\n",
    "ax.set_xlabel('Data size')\n"
   ]
  },
  {
   "cell_type": "markdown",
   "id": "sonic-alliance",
   "metadata": {},
   "source": [
    "## Plot vs n_loops"
   ]
  },
  {
   "cell_type": "code",
   "execution_count": 46,
   "id": "graphic-floating",
   "metadata": {
    "ExecuteTime": {
     "end_time": "2021-01-24T15:54:09.395260Z",
     "start_time": "2021-01-24T15:54:09.170221Z"
    }
   },
   "outputs": [
    {
     "data": {
      "text/plain": [
       "Text(0.5, 0, 'Number of loops')"
      ]
     },
     "execution_count": 46,
     "metadata": {},
     "output_type": "execute_result"
    },
    {
     "data": {
      "image/png": "[encoded data removed]",
      "text/plain": [
       "<Figure size 432x288 with 1 Axes>"
      ]
     },
     "metadata": {
      "needs_background": "light"
     },
     "output_type": "display_data"
    }
   ],
   "source": [
    "df_sub = get_subset(\n",
    "    df, level=1000, col='n_obs', id_col='n_loop')\n",
    "\n",
    "fig, ax = plt.subplots()\n",
    "df_sub.plot(ax=ax)\n",
    "ax.set_ylabel('Time [ms]')\n",
    "ax.set_xlabel('Number of loops')"
   ]
  },
  {
   "cell_type": "markdown",
   "id": "primary-pepper",
   "metadata": {},
   "source": [
    "## Performance heat-map"
   ]
  },
  {
   "cell_type": "code",
   "execution_count": 51,
   "id": "introductory-alabama",
   "metadata": {
    "ExecuteTime": {
     "end_time": "2021-01-24T16:09:18.989131Z",
     "start_time": "2021-01-24T16:09:18.970935Z"
    }
   },
   "outputs": [
    {
     "data": {
      "text/html": [
       "<div>\n",
       "<style scoped>\n",
       "    .dataframe tbody tr th:only-of-type {\n",
       "        vertical-align: middle;\n",
       "    }\n",
       "\n",
       "    .dataframe tbody tr th {\n",
       "        vertical-align: top;\n",
       "    }\n",
       "\n",
       "    .dataframe thead th {\n",
       "        text-align: right;\n",
       "    }\n",
       "</style>\n",
       "<table border=\"1\" class=\"dataframe\">\n",
       "  <thead>\n",
       "    <tr style=\"text-align: right;\">\n",
       "      <th></th>\n",
       "      <th>n_loop</th>\n",
       "      <th>n_obs</th>\n",
       "      <th>time_numpy</th>\n",
       "      <th>time_numba</th>\n",
       "      <th>numpy/numba</th>\n",
       "    </tr>\n",
       "  </thead>\n",
       "  <tbody>\n",
       "    <tr>\n",
       "      <th>0</th>\n",
       "      <td>10</td>\n",
       "      <td>10</td>\n",
       "      <td>0.490189</td>\n",
       "      <td>498.106956</td>\n",
       "      <td>0.000984</td>\n",
       "    </tr>\n",
       "    <tr>\n",
       "      <th>1</th>\n",
       "      <td>10</td>\n",
       "      <td>100</td>\n",
       "      <td>1.838923</td>\n",
       "      <td>0.120163</td>\n",
       "      <td>15.303571</td>\n",
       "    </tr>\n",
       "    <tr>\n",
       "      <th>2</th>\n",
       "      <td>10</td>\n",
       "      <td>1000</td>\n",
       "      <td>4.585981</td>\n",
       "      <td>0.083923</td>\n",
       "      <td>54.644886</td>\n",
       "    </tr>\n",
       "    <tr>\n",
       "      <th>3</th>\n",
       "      <td>10</td>\n",
       "      <td>10000</td>\n",
       "      <td>3.931999</td>\n",
       "      <td>0.911713</td>\n",
       "      <td>4.312762</td>\n",
       "    </tr>\n",
       "    <tr>\n",
       "      <th>4</th>\n",
       "      <td>10</td>\n",
       "      <td>50000</td>\n",
       "      <td>17.482996</td>\n",
       "      <td>6.526947</td>\n",
       "      <td>2.678587</td>\n",
       "    </tr>\n",
       "    <tr>\n",
       "      <th>5</th>\n",
       "      <td>10</td>\n",
       "      <td>100000</td>\n",
       "      <td>42.222738</td>\n",
       "      <td>14.043331</td>\n",
       "      <td>3.006604</td>\n",
       "    </tr>\n",
       "    <tr>\n",
       "      <th>6</th>\n",
       "      <td>100</td>\n",
       "      <td>10</td>\n",
       "      <td>45.407057</td>\n",
       "      <td>1.242161</td>\n",
       "      <td>36.554894</td>\n",
       "    </tr>\n",
       "    <tr>\n",
       "      <th>7</th>\n",
       "      <td>100</td>\n",
       "      <td>100</td>\n",
       "      <td>43.804884</td>\n",
       "      <td>2.356052</td>\n",
       "      <td>18.592491</td>\n",
       "    </tr>\n",
       "    <tr>\n",
       "      <th>8</th>\n",
       "      <td>100</td>\n",
       "      <td>1000</td>\n",
       "      <td>71.232080</td>\n",
       "      <td>5.982161</td>\n",
       "      <td>11.907417</td>\n",
       "    </tr>\n",
       "    <tr>\n",
       "      <th>9</th>\n",
       "      <td>100</td>\n",
       "      <td>10000</td>\n",
       "      <td>283.709049</td>\n",
       "      <td>91.379881</td>\n",
       "      <td>3.104721</td>\n",
       "    </tr>\n",
       "    <tr>\n",
       "      <th>10</th>\n",
       "      <td>100</td>\n",
       "      <td>50000</td>\n",
       "      <td>1322.622061</td>\n",
       "      <td>655.061007</td>\n",
       "      <td>2.019082</td>\n",
       "    </tr>\n",
       "    <tr>\n",
       "      <th>11</th>\n",
       "      <td>100</td>\n",
       "      <td>100000</td>\n",
       "      <td>3412.963152</td>\n",
       "      <td>1345.312834</td>\n",
       "      <td>2.536929</td>\n",
       "    </tr>\n",
       "    <tr>\n",
       "      <th>12</th>\n",
       "      <td>250</td>\n",
       "      <td>10</td>\n",
       "      <td>260.520220</td>\n",
       "      <td>8.463860</td>\n",
       "      <td>30.780310</td>\n",
       "    </tr>\n",
       "    <tr>\n",
       "      <th>13</th>\n",
       "      <td>250</td>\n",
       "      <td>100</td>\n",
       "      <td>270.366907</td>\n",
       "      <td>13.704777</td>\n",
       "      <td>19.727932</td>\n",
       "    </tr>\n",
       "    <tr>\n",
       "      <th>14</th>\n",
       "      <td>250</td>\n",
       "      <td>1000</td>\n",
       "      <td>425.877094</td>\n",
       "      <td>34.103155</td>\n",
       "      <td>12.487909</td>\n",
       "    </tr>\n",
       "    <tr>\n",
       "      <th>15</th>\n",
       "      <td>250</td>\n",
       "      <td>10000</td>\n",
       "      <td>1735.944033</td>\n",
       "      <td>600.092888</td>\n",
       "      <td>2.892792</td>\n",
       "    </tr>\n",
       "    <tr>\n",
       "      <th>16</th>\n",
       "      <td>250</td>\n",
       "      <td>50000</td>\n",
       "      <td>8095.046997</td>\n",
       "      <td>4073.921919</td>\n",
       "      <td>1.987040</td>\n",
       "    </tr>\n",
       "    <tr>\n",
       "      <th>17</th>\n",
       "      <td>250</td>\n",
       "      <td>100000</td>\n",
       "      <td>21038.415194</td>\n",
       "      <td>8491.093874</td>\n",
       "      <td>2.477704</td>\n",
       "    </tr>\n",
       "    <tr>\n",
       "      <th>18</th>\n",
       "      <td>1000</td>\n",
       "      <td>10</td>\n",
       "      <td>4175.983906</td>\n",
       "      <td>127.562046</td>\n",
       "      <td>32.736884</td>\n",
       "    </tr>\n",
       "    <tr>\n",
       "      <th>19</th>\n",
       "      <td>1000</td>\n",
       "      <td>100</td>\n",
       "      <td>4321.351767</td>\n",
       "      <td>215.192080</td>\n",
       "      <td>20.081370</td>\n",
       "    </tr>\n",
       "    <tr>\n",
       "      <th>20</th>\n",
       "      <td>1000</td>\n",
       "      <td>1000</td>\n",
       "      <td>6878.247261</td>\n",
       "      <td>468.135834</td>\n",
       "      <td>14.692845</td>\n",
       "    </tr>\n",
       "    <tr>\n",
       "      <th>21</th>\n",
       "      <td>1000</td>\n",
       "      <td>10000</td>\n",
       "      <td>27823.837996</td>\n",
       "      <td>9535.321712</td>\n",
       "      <td>2.917976</td>\n",
       "    </tr>\n",
       "    <tr>\n",
       "      <th>22</th>\n",
       "      <td>1000</td>\n",
       "      <td>50000</td>\n",
       "      <td>134560.024977</td>\n",
       "      <td>69534.994841</td>\n",
       "      <td>1.935141</td>\n",
       "    </tr>\n",
       "    <tr>\n",
       "      <th>23</th>\n",
       "      <td>1000</td>\n",
       "      <td>100000</td>\n",
       "      <td>403442.498922</td>\n",
       "      <td>150543.867826</td>\n",
       "      <td>2.679900</td>\n",
       "    </tr>\n",
       "  </tbody>\n",
       "</table>\n",
       "</div>"
      ],
      "text/plain": [
       "    n_loop   n_obs     time_numpy     time_numba  numpy/numba\n",
       "0       10      10       0.490189     498.106956     0.000984\n",
       "1       10     100       1.838923       0.120163    15.303571\n",
       "2       10    1000       4.585981       0.083923    54.644886\n",
       "3       10   10000       3.931999       0.911713     4.312762\n",
       "4       10   50000      17.482996       6.526947     2.678587\n",
       "5       10  100000      42.222738      14.043331     3.006604\n",
       "6      100      10      45.407057       1.242161    36.554894\n",
       "7      100     100      43.804884       2.356052    18.592491\n",
       "8      100    1000      71.232080       5.982161    11.907417\n",
       "9      100   10000     283.709049      91.379881     3.104721\n",
       "10     100   50000    1322.622061     655.061007     2.019082\n",
       "11     100  100000    3412.963152    1345.312834     2.536929\n",
       "12     250      10     260.520220       8.463860    30.780310\n",
       "13     250     100     270.366907      13.704777    19.727932\n",
       "14     250    1000     425.877094      34.103155    12.487909\n",
       "15     250   10000    1735.944033     600.092888     2.892792\n",
       "16     250   50000    8095.046997    4073.921919     1.987040\n",
       "17     250  100000   21038.415194    8491.093874     2.477704\n",
       "18    1000      10    4175.983906     127.562046    32.736884\n",
       "19    1000     100    4321.351767     215.192080    20.081370\n",
       "20    1000    1000    6878.247261     468.135834    14.692845\n",
       "21    1000   10000   27823.837996    9535.321712     2.917976\n",
       "22    1000   50000  134560.024977   69534.994841     1.935141\n",
       "23    1000  100000  403442.498922  150543.867826     2.679900"
      ]
     },
     "execution_count": 51,
     "metadata": {},
     "output_type": "execute_result"
    }
   ],
   "source": [
    "df['numpy/numba'] = df['time_numpy']/df['time_numba']\n",
    "df"
   ]
  },
  {
   "cell_type": "code",
   "execution_count": 57,
   "id": "promotional-dependence",
   "metadata": {
    "ExecuteTime": {
     "end_time": "2021-01-24T16:12:21.148707Z",
     "start_time": "2021-01-24T16:12:21.127516Z"
    }
   },
   "outputs": [],
   "source": [
    "numpy_vs_numba_df = pd.pivot_table(df, values='numpy/numba', columns='n_obs', index='n_loop')"
   ]
  },
  {
   "cell_type": "code",
   "execution_count": 58,
   "id": "public-acrylic",
   "metadata": {
    "ExecuteTime": {
     "end_time": "2021-01-24T16:12:25.226233Z",
     "start_time": "2021-01-24T16:12:24.646513Z"
    }
   },
   "outputs": [],
   "source": [
    "import seaborn as sns"
   ]
  },
  {
   "cell_type": "code",
   "execution_count": 56,
   "id": "annoying-england",
   "metadata": {
    "ExecuteTime": {
     "end_time": "2021-01-24T16:11:44.577439Z",
     "start_time": "2021-01-24T16:11:44.574258Z"
    }
   },
   "outputs": [],
   "source": [
    "#!pip install seaborn"
   ]
  },
  {
   "cell_type": "code",
   "execution_count": 60,
   "id": "executive-desert",
   "metadata": {
    "ExecuteTime": {
     "end_time": "2021-01-24T16:14:37.037499Z",
     "start_time": "2021-01-24T16:14:36.787229Z"
    }
   },
   "outputs": [
    {
     "data": {
      "image/png": "[encoded data removed]",
      "text/plain": [
       "<Figure size 432x288 with 2 Axes>"
      ]
     },
     "metadata": {},
     "output_type": "display_data"
    }
   ],
   "source": [
    "sns.set_theme()\n",
    "ax = sns.heatmap(numpy_vs_numba_df)"
   ]
  },
  {
   "cell_type": "code",
   "execution_count": 65,
   "id": "ancient-cocktail",
   "metadata": {
    "ExecuteTime": {
     "end_time": "2021-01-24T16:20:33.098225Z",
     "start_time": "2021-01-24T16:20:32.866803Z"
    }
   },
   "outputs": [
    {
     "data": {
      "image/png": "[encoded data removed]",
      "text/plain": [
       "<Figure size 432x288 with 2 Axes>"
      ]
     },
     "metadata": {},
     "output_type": "display_data"
    }
   ],
   "source": [
    "import numpy as np\n",
    "\n",
    "sns.set_theme()\n",
    "ax = sns.heatmap(np.log10(numpy_vs_numba_df))"
   ]
  },
  {
   "cell_type": "code",
   "execution_count": null,
   "id": "retired-flexibility",
   "metadata": {},
   "outputs": [],
   "source": []
  }
 ],
 "metadata": {
  "kernelspec": {
   "display_name": "wifo_env",
   "language": "python",
   "name": "wifo_env"
  },
  "language_info": {
   "codemirror_mode": {
    "name": "ipython",
    "version": 3
   },
   "file_extension": ".py",
   "mimetype": "text/x-python",
   "name": "python",
   "nbconvert_exporter": "python",
   "pygments_lexer": "ipython3",
   "version": "3.6.10"
  },
  "toc": {
   "base_numbering": 1,
   "nav_menu": {},
   "number_sections": true,
   "sideBar": true,
   "skip_h1_title": false,
   "title_cell": "Table of Contents",
   "title_sidebar": "Contents",
   "toc_cell": false,
   "toc_position": {},
   "toc_section_display": true,
   "toc_window_display": false
  }
 },
 "nbformat": 4,
 "nbformat_minor": 5
}
